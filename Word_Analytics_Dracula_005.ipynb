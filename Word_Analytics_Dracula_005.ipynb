{
  "nbformat": 4,
  "nbformat_minor": 0,
  "metadata": {
    "colab": {
      "provenance": [],
      "authorship_tag": "ABX9TyOIZNOcSqVgVmruJPnBWJ+U",
      "include_colab_link": true
    },
    "kernelspec": {
      "name": "python3",
      "display_name": "Python 3"
    },
    "language_info": {
      "name": "python"
    }
  },
  "cells": [
    {
      "cell_type": "markdown",
      "metadata": {
        "id": "view-in-github",
        "colab_type": "text"
      },
      "source": [
        "<a href=\"https://colab.research.google.com/github/walabe8/Word_Analytics_Dracula_Novel/blob/main/Word_Analytics_Dracula_005.ipynb\" target=\"_parent\"><img src=\"https://colab.research.google.com/assets/colab-badge.svg\" alt=\"Open In Colab\"/></a>"
      ]
    },
    {
      "cell_type": "code",
      "execution_count": 24,
      "metadata": {
        "colab": {
          "base_uri": "https://localhost:8080/",
          "height": 384
        },
        "id": "qZcGzmQ-Tkdu",
        "outputId": "b8eb0052-6a61-4c93-b610-e6f1558fb2af"
      },
      "outputs": [
        {
          "output_type": "stream",
          "name": "stdout",
          "text": [
            "Drive already mounted at /content/drive; to attempt to forcibly remount, call drive.mount(\"/content/drive\", force_remount=True).\n",
            "==== RESULTS ====\n",
            "\n"
          ]
        },
        {
          "output_type": "error",
          "ename": "TypeError",
          "evalue": "'int' object is not iterable",
          "traceback": [
            "\u001b[0;31m---------------------------------------------------------------------------\u001b[0m",
            "\u001b[0;31mTypeError\u001b[0m                                 Traceback (most recent call last)",
            "\u001b[0;32m<ipython-input-24-b34f8b909ccc>\u001b[0m in \u001b[0;36m<cell line: 0>\u001b[0;34m()\u001b[0m\n\u001b[1;32m     62\u001b[0m \u001b[0mprint\u001b[0m\u001b[0;34m(\u001b[0m\u001b[0;34m\"==== RESULTS ====\"\u001b[0m\u001b[0;34m)\u001b[0m\u001b[0;34m\u001b[0m\u001b[0;34m\u001b[0m\u001b[0m\n\u001b[1;32m     63\u001b[0m \u001b[0mprint\u001b[0m\u001b[0;34m(\u001b[0m\u001b[0;34m)\u001b[0m\u001b[0;34m\u001b[0m\u001b[0;34m\u001b[0m\u001b[0m\n\u001b[0;32m---> 64\u001b[0;31m \u001b[0mfindMostFrequentWord\u001b[0m\u001b[0;34m(\u001b[0m\u001b[0;34m)\u001b[0m\u001b[0;34m\u001b[0m\u001b[0;34m\u001b[0m\u001b[0m\n\u001b[0m\u001b[1;32m     65\u001b[0m \u001b[0mfindFourLetterWord\u001b[0m\u001b[0;34m(\u001b[0m\u001b[0;34m)\u001b[0m\u001b[0;34m\u001b[0m\u001b[0;34m\u001b[0m\u001b[0m\n\u001b[1;32m     66\u001b[0m \u001b[0mfindMoreThan500TimesWord\u001b[0m\u001b[0;34m(\u001b[0m\u001b[0;34m)\u001b[0m\u001b[0;34m\u001b[0m\u001b[0;34m\u001b[0m\u001b[0m\n",
            "\u001b[0;32m<ipython-input-24-b34f8b909ccc>\u001b[0m in \u001b[0;36mfindMostFrequentWord\u001b[0;34m()\u001b[0m\n\u001b[1;32m     22\u001b[0m \u001b[0;34m\u001b[0m\u001b[0m\n\u001b[1;32m     23\u001b[0m   \u001b[0;31m# for i in len(draculaText):\u001b[0m\u001b[0;34m\u001b[0m\u001b[0;34m\u001b[0m\u001b[0m\n\u001b[0;32m---> 24\u001b[0;31m   \u001b[0;32mfor\u001b[0m \u001b[0mi\u001b[0m \u001b[0;32min\u001b[0m \u001b[0mdraculaText\u001b[0m\u001b[0;34m:\u001b[0m\u001b[0;34m\u001b[0m\u001b[0;34m\u001b[0m\u001b[0m\n\u001b[0m\u001b[1;32m     25\u001b[0m     \u001b[0;32mif\u001b[0m \u001b[0;34m(\u001b[0m\u001b[0mi\u001b[0m \u001b[0;34m>\u001b[0m \u001b[0mmost\u001b[0m\u001b[0;34m)\u001b[0m\u001b[0;34m:\u001b[0m\u001b[0;34m\u001b[0m\u001b[0;34m\u001b[0m\u001b[0m\n\u001b[1;32m     26\u001b[0m       \u001b[0mmost\u001b[0m \u001b[0;34m=\u001b[0m \u001b[0mi\u001b[0m\u001b[0;34m;\u001b[0m\u001b[0;34m\u001b[0m\u001b[0;34m\u001b[0m\u001b[0m\n",
            "\u001b[0;31mTypeError\u001b[0m: 'int' object is not iterable"
          ]
        }
      ],
      "source": [
        "import random\n",
        "from google.colab import drive\n",
        "drive.mount('/content/drive')\n",
        "\n",
        "#### FUNCTIONS ####\n",
        "# This function returns the entirety of \"Dracula\" as a string\n",
        "def readBook():\n",
        "  f = open(\"drive/MyDrive/dracula.txt\", \"r\")\n",
        "  s = f.read().replace(\"-\", \" \")\n",
        "  f.close()\n",
        "  return ''.join(c for c in s if c.isalnum() or c == \" \")\n",
        "  draculaText = readBook()\n",
        "\n",
        "# Find the word that shows up the most often\n",
        "def findMostFrequentWord():\n",
        "  draculaText = readBook()\n",
        "  draculaText = draculaText.split()\n",
        "  draculaText = len(draculaText)\n",
        "  # print(draculaText)\n",
        "  most = 0\n",
        "  frequentWord = \"\"\n",
        "\n",
        "  # for i in len(draculaText):\n",
        "  for i in draculaText:\n",
        "    if (i > most):\n",
        "      most = i;\n",
        "  print(most)\n",
        "\n",
        "#### TEST\n",
        "  string = (0,2,4,2,3)\n",
        "  for i in string:\n",
        "    if (i > most):\n",
        "      most = i;\n",
        "  print(most)\n",
        "\n",
        "# How many unique four-letter words are in the book\n",
        "def findFourLetterWord():\n",
        "  draculaText = readBook()\n",
        "  # print(draculaText)\n",
        "  # Create empty string + split the book into words\n",
        "  fourletterWord = {}\n",
        "  words = draculaText.split()\n",
        "  print(words)\n",
        "  for words in draculaText:\n",
        "    if len(words) == 4:\n",
        "      fourletterWord.append()\n",
        "\n",
        "  # Filter and collect unique four-letter words + print the amount\n",
        "  fourletterWord = len(fourletterWord)\n",
        "  print(f\"There are {fourletterWord} amount of four letter words\")\n",
        "\n",
        "# Every word that shows up more than 500 times, and how many times that word shows up throughout the book\n",
        "def findMoreThan500TimesWord():\n",
        "  moreThan500TimesWord = {}\n",
        "  for word in readBook():\n",
        "    if len(word) > 500:\n",
        "      print(word)\n",
        "    else:\n",
        "      pass\n",
        "\n",
        "#### MAIN PROGRAM ####\n",
        "print(\"==== RESULTS ====\")\n",
        "print()\n",
        "findMostFrequentWord()\n",
        "findFourLetterWord()\n",
        "findMoreThan500TimesWord()\n",
        "\n",
        "\n",
        "\n",
        "\n",
        "\n",
        "\n",
        "\n",
        "#### TESTS\n",
        "f = open(\"drive/MyDrive/dracula.txt\", \"r\")\n",
        "print(f.read(100))\n",
        "f.close()\n",
        "\n",
        "#### Search for a value that best meets a criteria\n",
        "# A Tuple that holds a few numbers\n",
        "numbers = (0, 5, 7, 1, 9, 2, 3)\n",
        "\n",
        "# Creates a buffer that represents the current largest number\n",
        "largest = 0\n",
        "\n",
        "# Find the largest value in the Tuple\n",
        "for number in numbers:\n",
        "\n",
        "  # See if the \"challenger\" better meets the criteria (is larger) than the current \"king\"\n",
        "  if(number > largest):\n",
        "\n",
        "    # If so, the \"challenger\" is now the \"king\"\n",
        "    largest = number\n",
        "\n",
        "# Display the largest number found\n",
        "print(largest)\n",
        "\n",
        "#### Iterate through a Dictionary\n",
        "for key, value in pairs:\n",
        "\n",
        "  # Display the key of the current pair\n",
        "  print(key)\n",
        "\n",
        "  # Display the value of the current pair\n",
        "  print(value)"
      ]
    }
  ]
}