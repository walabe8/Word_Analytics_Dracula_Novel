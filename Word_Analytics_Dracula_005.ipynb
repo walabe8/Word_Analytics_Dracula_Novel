{
  "nbformat": 4,
  "nbformat_minor": 0,
  "metadata": {
    "colab": {
      "provenance": [],
      "authorship_tag": "ABX9TyMDJXfiwaT866ttzRUwaBlm",
      "include_colab_link": true
    },
    "kernelspec": {
      "name": "python3",
      "display_name": "Python 3"
    },
    "language_info": {
      "name": "python"
    }
  },
  "cells": [
    {
      "cell_type": "markdown",
      "metadata": {
        "id": "view-in-github",
        "colab_type": "text"
      },
      "source": [
        "<a href=\"https://colab.research.google.com/github/walabe8/Word_Analytics_Dracula_Novel/blob/main/Word_Analytics_Dracula_005.ipynb\" target=\"_parent\"><img src=\"https://colab.research.google.com/assets/colab-badge.svg\" alt=\"Open In Colab\"/></a>"
      ]
    },
    {
      "cell_type": "code",
      "execution_count": 9,
      "metadata": {
        "colab": {
          "base_uri": "https://localhost:8080/"
        },
        "id": "qZcGzmQ-Tkdu",
        "outputId": "f9c20f2e-dff1-43aa-90e7-9e568aaea98d"
      },
      "outputs": [
        {
          "output_type": "stream",
          "name": "stdout",
          "text": [
            "Drive already mounted at /content/drive; to attempt to forcibly remount, call drive.mount(\"/content/drive\", force_remount=True).\n",
            "==== RESULTS ====\n",
            "\n",
            "The most common word is: the\n",
            "There are 1158 unique four letter words\n",
            "There are 43 words that show up 500 or more times\n"
          ]
        }
      ],
      "source": [
        "from google.colab import drive\n",
        "drive.mount('/content/drive')\n",
        "\n",
        "#### FUNCTIONS ####\n",
        "\n",
        "# This function returns the entirety of \"Dracula\" as a string\n",
        "def readBook():\n",
        "  f = open(\"drive/MyDrive/dracula.txt\", \"r\")\n",
        "  s = f.read().replace(\"-\", \" \")\n",
        "  f.close()\n",
        "  return ''.join(c for c in s if c.isalnum() or c == \" \")\n",
        "\n",
        "# Find the word that shows up the most often\n",
        "def findMostFrequentWord():\n",
        "  # Variables to store words, a 0 variable, and mostCommonWord. Make lowercase words + splitting the string of the book\n",
        "  draculaText = readBook()\n",
        "  draculaText = draculaText.lower()\n",
        "  draculaText = draculaText.split()\n",
        "  wordCounts = {}\n",
        "  highestCount = 0\n",
        "  mostCommonWord = \"\"\n",
        "\n",
        "  # Add up the words and don't duplicate them\n",
        "  for word in draculaText:\n",
        "    if word not in wordCounts:\n",
        "      wordCounts[word] = 1\n",
        "    else:\n",
        "      wordCounts[word] += 1\n",
        "\n",
        "  # Find the word that shows up most often in the dictionary wordCounts\n",
        "  for word, count in wordCounts.items():\n",
        "    if count > highestCount:\n",
        "        highestCount = count\n",
        "        mostCommonWord = word\n",
        "  print(f\"The most common word is: {mostCommonWord}\")\n",
        "\n",
        "# How many unique four-letter words are in the book\n",
        "def findFourLetterWord():\n",
        "  # Variables to store words, a 0 variable, and fourLetterWord. Make lowercase words + splitting the string of the book\n",
        "  draculaText = readBook()\n",
        "  draculaText = draculaText.lower()\n",
        "  draculaText = draculaText.split()\n",
        "  wordCounts = {}\n",
        "  fourLetterWord = []\n",
        "\n",
        "  # Add up the words and don't duplicate them\n",
        "  for word in draculaText:\n",
        "    if word not in wordCounts:\n",
        "      wordCounts[word] = 1\n",
        "    else:\n",
        "      wordCounts[word] += 1\n",
        "\n",
        "  # Find the word that is a 4 letter word in dictionary wordCounts\n",
        "  for word in wordCounts:\n",
        "    if len(word) == 4:\n",
        "      fourLetterWord.append(word)\n",
        "\n",
        "  # Filter and collect unique four-letter words + print the amount\n",
        "  fourLetterWord = len(fourLetterWord)\n",
        "  print(f\"There are {fourLetterWord} unique four letter words\")\n",
        "\n",
        "# Every word that shows up more than 500 times, and how many times that word shows up throughout the book\n",
        "def findMoreThan500TimesWord():\n",
        "  # Variables to store words, a 0 variable, and moreThan500Times. Make lowercase words + splitting the string of the book\n",
        "  draculaText = readBook()\n",
        "  draculaText = draculaText.lower()\n",
        "  draculaText = draculaText.split()\n",
        "  wordCounts = {}\n",
        "  largeAmount = 500\n",
        "  moreThan500Times = []\n",
        "\n",
        "  # Add up the words and don't duplicate them\n",
        "  for word in draculaText:\n",
        "    if word not in wordCounts:\n",
        "      wordCounts[word] = 1\n",
        "    else:\n",
        "      wordCounts[word] += 1\n",
        "\n",
        "  # Find words that show up 500 or more times the in dictionary wordCounts\n",
        "  for word, count in wordCounts.items():\n",
        "    if count >= 500:\n",
        "      moreThan500Times.append(word)\n",
        "\n",
        "  # Filter and collect unique four-letter words + print the amount\n",
        "  moreThan500Times = len(moreThan500Times)\n",
        "  print(f\"There are {moreThan500Times} words that show up 500 or more times\")\n",
        "\n",
        "#### MAIN PROGRAM ####\n",
        "print(\"==== RESULTS ====\")\n",
        "print()\n",
        "findMostFrequentWord()\n",
        "findFourLetterWord()\n",
        "findMoreThan500TimesWord()"
      ]
    }
  ]
}